{
 "cells": [
  {
   "cell_type": "code",
   "execution_count": 1,
   "metadata": {},
   "outputs": [],
   "source": [
    "import re\n",
    "from collections import Counter"
   ]
  },
  {
   "cell_type": "code",
   "execution_count": 2,
   "metadata": {},
   "outputs": [],
   "source": [
    "# function to tokenise words\n",
    "def words(document):\n",
    "    \"Convert text to lower case and tokenise the document\"\n",
    "    return re.findall(r'\\w+', document.lower())"
   ]
  },
  {
   "cell_type": "code",
   "execution_count": 4,
   "metadata": {},
   "outputs": [],
   "source": [
    "# create a frequency table of all the words of the document\n",
    "all_words = Counter(words(open('big.txt').read()))"
   ]
  },
  {
   "cell_type": "code",
   "execution_count": 5,
   "metadata": {},
   "outputs": [
    {
     "data": {
      "text/plain": [
       "135"
      ]
     },
     "execution_count": 5,
     "metadata": {},
     "output_type": "execute_result"
    }
   ],
   "source": [
    "# check frequency of a random word, say, 'chair'\n",
    "all_words['chair']"
   ]
  },
  {
   "cell_type": "code",
   "execution_count": 6,
   "metadata": {},
   "outputs": [
    {
     "data": {
      "text/plain": [
       "[('the', 79809),\n",
       " ('of', 40024),\n",
       " ('and', 38312),\n",
       " ('to', 28765),\n",
       " ('in', 22023),\n",
       " ('a', 21124),\n",
       " ('that', 12512),\n",
       " ('he', 12401),\n",
       " ('was', 11410),\n",
       " ('it', 10681)]"
      ]
     },
     "execution_count": 6,
     "metadata": {},
     "output_type": "execute_result"
    }
   ],
   "source": [
    "# look at top 10 frequent words\n",
    "all_words.most_common(10)"
   ]
  },
  {
   "cell_type": "code",
   "execution_count": 7,
   "metadata": {},
   "outputs": [],
   "source": [
    "def edits_one(word):\n",
    "    \"Create all edits that are one edit away from `word`.\"\n",
    "    alphabets    = 'abcdefghijklmnopqrstuvwxyz'\n",
    "    splits     = [(word[:i], word[i:])                   for i in range(len(word) + 1)]\n",
    "    deletes    = [left + right[1:]                       for left, right in splits if right]\n",
    "    inserts    = [left + c + right                       for left, right in splits for c in alphabets]\n",
    "    replaces   = [left + c + right[1:]                   for left, right in splits if right for c in alphabets]\n",
    "    transposes = [left + right[1] + right[0] + right[2:] for left, right in splits if len(right)>1]\n",
    "    return set(deletes + inserts + replaces + transposes)"
   ]
  },
  {
   "cell_type": "code",
   "execution_count": 8,
   "metadata": {},
   "outputs": [],
   "source": [
    "def edits_two(word):\n",
    "    \"Create all edits that are two edits away from `word`.\"\n",
    "    return (e2 for e1 in edits_one(word) for e2 in edits_one(e1))"
   ]
  },
  {
   "cell_type": "code",
   "execution_count": 9,
   "metadata": {},
   "outputs": [],
   "source": [
    "def known(words):\n",
    "    \"The subset of `words` that appear in the `all_words`.\"\n",
    "    return set(word for word in words if word in all_words)"
   ]
  },
  {
   "cell_type": "code",
   "execution_count": 10,
   "metadata": {},
   "outputs": [],
   "source": [
    "def possible_corrections(word):\n",
    "    \"Generate possible spelling corrections for word.\"\n",
    "    return (known([word]) or known(edits_one(word)) or known(edits_two(word)) or [word])"
   ]
  },
  {
   "cell_type": "code",
   "execution_count": 11,
   "metadata": {},
   "outputs": [],
   "source": [
    "def prob(word, N=sum(all_words.values())): \n",
    "    \"Probability of `word`: Number of appearances of 'word' / total number of tokens\"\n",
    "    return all_words[word] / N"
   ]
  },
  {
   "cell_type": "code",
   "execution_count": 12,
   "metadata": {},
   "outputs": [
    {
     "name": "stdout",
     "output_type": "stream",
     "text": [
      "336\n",
      "{'monrey', 'monneym', 'monnez', 'mzonney', 'jmonney', 'moncney', 'monnyey', 'monneqy', 'monnee', 'mbonney', 'mohney', 'monnefy', 'monndey', 'mtonney', 'monlney', 'mdnney', 'monnfy', 'mojnney', 'mongey', 'mmonney', 'molney', 'monnky', 'mvonney', 'eonney', 'mouney', 'monnjy', 'smonney', 'momney', 'moinney', 'monnuy', 'mongney', 'mynney', 'moynney', 'uonney', 'monnev', 'monneyp', 'monneyu', 'monfey', 'monkney', 'monnehy', 'monnezy', 'monnek', 'monneyx', 'monny', 'mpnney', 'fonney', 'msnney', 'moqnney', 'monnrey', 'monniy', 'monneya', 'monqey', 'monrney', 'konney', 'movney', 'monneyk', 'monnec', 'monpney', 'monnay', 'monneky', 'mosney', 'molnney', 'monncy', 'moiney', 'monuey', 'monkey', 'monnep', 'monnly', 'monneyn', 'mobnney', 'monnby', 'monneyl', 'monnye', 'gonney', 'amonney', 'monneuy', 'monnsy', 'mlnney', 'monneay', 'monneyi', 'monne', 'monvey', 'modnney', 'monnei', 'monnxey', 'monneyb', 'moenney', 'monnedy', 'montey', 'monsney', 'monneys', 'mxonney', 'mnonney', 'mwonney', 'monnepy', 'monnemy', 'monneby', 'monneyt', 'monaey', 'monneyv', 'monnzy', 'moniey', 'moyney', 'motney', 'mhnney', 'monnwy', 'monxney', 'movnney', 'omnney', 'monnea', 'mondey', 'modney', 'monaney', 'monyney', 'moeney', 'monxey', 'monnry', 'moniney', 'monneyw', 'monjey', 'moncey', 'lmonney', 'mgnney', 'mozney', 'omonney', 'mocnney', 'monzey', 'monneo', 'honney', 'mowney', 'bmonney', 'moknney', 'zonney', 'monnesy', 'monnpey', 'donney', 'mogney', 'mwnney', 'mdonney', 'mfnney', 'monnet', 'monncey', 'montney', 'tmonney', 'mhonney', 'mocney', 'monsey', 'monbey', 'mgonney', 'monnuey', 'monnmey', 'manney', 'bonney', 'money', 'mnoney', 'monneyr', 'monneyd', 'monnem', 'monnley', 'monnfey', 'monnaey', 'mkonney', 'monnew', 'xmonney', 'motnney', 'qonney', 'mnnney', 'mknney', 'moneney', 'oonney', 'aonney', 'fmonney', 'monntey', 'zmonney', 'monneh', 'monnevy', 'minney', 'mownney', 'monnsey', 'mronney', 'qmonney', 'monneoy', 'cmonney', 'myonney', 'monoey', 'monneg', 'monnewy', 'monner', 'moqney', 'mofnney', 'monnwey', 'monley', 'monnely', 'ponney', 'mnney', 'monniey', 'monneny', 'monnvey', 'pmonney', 'mvnney', 'onney', 'monndy', 'lonney', 'vonney', 'moxnney', 'ionney', 'monnety', 'wonney', 'monneyz', 'monneu', 'monneyc', 'emonney', 'momnney', 'moneey', 'monwey', 'monyey', 'monnyy', 'monneyo', 'mjnney', 'monnkey', 'mjonney', 'monneyh', 'monnpy', 'monngy', 'mbnney', 'conney', 'monpey', 'ymonney', 'mopney', 'mooney', 'moonney', 'moaney', 'moneny', 'mqnney', 'monneyq', 'monneey', 'mojney', 'monnmy', 'xonney', 'mohnney', 'monfney', 'monwney', 'imonney', 'muonney', 'monnecy', 'mfonney', 'meonney', 'hmonney', 'monnegy', 'mrnney', 'monneye', 'monnxy', 'monqney', 'mopnney', 'monneyy', 'monnen', 'monnjey', 'morney', 'monnney', 'mobney', 'ronney', 'monneq', 'monneyj', 'monnqy', 'monneyf', 'monhey', 'moznney', 'vmonney', 'moanney', 'monhney', 'monnel', 'mononey', 'monzney', 'monnbey', 'monnex', 'umonney', 'mornney', 'wmonney', 'mtnney', 'monnoey', 'mznney', 'monnef', 'monuney', 'mmnney', 'mqonney', 'mxnney', 'menney', 'monnery', 'tonney', 'nmonney', 'munney', 'mcnney', 'gmonney', 'mconney', 'mognney', 'yonney', 'monnhey', 'jonney', 'monnty', 'monnes', 'monnej', 'mokney', 'mondney', 'maonney', 'monnexy', 'mionney', 'monmney', 'monneyg', 'mofney', 'kmonney', 'monnhy', 'mosnney', 'rmonney', 'monned', 'monvney', 'monnqey', 'monngey', 'monmey', 'sonney', 'dmonney', 'mounney', 'monnoy', 'msonney', 'monbney', 'moxney', 'monnvy', 'monjney', 'mlonney', 'nonney', 'monnny', 'mponney', 'monney', 'monnzey', 'monneb', 'monnejy', 'monneiy'}\n"
     ]
    }
   ],
   "source": [
    "print(len(set(edits_one(\"monney\"))))\n",
    "print(edits_one(\"monney\"))"
   ]
  },
  {
   "cell_type": "code",
   "execution_count": 17,
   "metadata": {},
   "outputs": [
    {
     "name": "stdout",
     "output_type": "stream",
     "text": [
      "1\n"
     ]
    }
   ],
   "source": [
    "print(len(set(possible_corrections(\"emfasize\"))))"
   ]
  },
  {
   "cell_type": "code",
   "execution_count": 13,
   "metadata": {},
   "outputs": [
    {
     "name": "stdout",
     "output_type": "stream",
     "text": [
      "{'monkey', 'money'}\n"
     ]
    }
   ],
   "source": [
    "print(known(edits_one(\"monney\")))"
   ]
  },
  {
   "cell_type": "code",
   "execution_count": 14,
   "metadata": {},
   "outputs": [
    {
     "name": "stdout",
     "output_type": "stream",
     "text": [
      "51013\n",
      "{'monkey', 'money'}\n"
     ]
    }
   ],
   "source": [
    "# Let's look at words that are two edits away\n",
    "print(len(set(edits_two(\"monney\"))))\n",
    "print(known(edits_one(\"monney\")))"
   ]
  },
  {
   "cell_type": "code",
   "execution_count": 18,
   "metadata": {},
   "outputs": [
    {
     "name": "stdout",
     "output_type": "stream",
     "text": [
      "{'monkey', 'money'}\n"
     ]
    }
   ],
   "source": [
    "# Let's look at possible corrections of a word\n",
    "print(possible_corrections(\"monney\"))"
   ]
  },
  {
   "cell_type": "code",
   "execution_count": 19,
   "metadata": {},
   "outputs": [
    {
     "name": "stdout",
     "output_type": "stream",
     "text": [
      "0.0002922233626303688\n",
      "5.378344097491451e-06\n"
     ]
    }
   ],
   "source": [
    "# Let's look at probability of a word\n",
    "print(prob(\"money\"))\n",
    "print(prob(\"monkey\"))"
   ]
  },
  {
   "cell_type": "code",
   "execution_count": 20,
   "metadata": {},
   "outputs": [],
   "source": [
    "def spell_check(word):\n",
    "    \"Print the most probable spelling correction for `word` out of all the `possible_corrections`\"\n",
    "    correct_word = max(possible_corrections(word), key=prob)\n",
    "    if correct_word != word:\n",
    "        return \"Did you mean \" + correct_word + \"?\"\n",
    "    else:\n",
    "        return \"Correct spelling.\""
   ]
  },
  {
   "cell_type": "code",
   "execution_count": 22,
   "metadata": {},
   "outputs": [
    {
     "name": "stdout",
     "output_type": "stream",
     "text": [
      "Did you mean money?\n"
     ]
    }
   ],
   "source": [
    "# test spell check\n",
    "print(spell_check(\"monney\"))"
   ]
  },
  {
   "cell_type": "code",
   "execution_count": 24,
   "metadata": {},
   "outputs": [
    {
     "name": "stdout",
     "output_type": "stream",
     "text": [
      "learn\n"
     ]
    }
   ],
   "source": [
    "from spell_corrector import rectify\n",
    "correct = rectify(\"laern\")\n",
    "print(correct)"
   ]
  },
  {
   "cell_type": "code",
   "execution_count": null,
   "metadata": {},
   "outputs": [],
   "source": []
  }
 ],
 "metadata": {
  "kernelspec": {
   "display_name": "Python 3",
   "language": "python",
   "name": "python3"
  },
  "language_info": {
   "codemirror_mode": {
    "name": "ipython",
    "version": 3
   },
   "file_extension": ".py",
   "mimetype": "text/x-python",
   "name": "python",
   "nbconvert_exporter": "python",
   "pygments_lexer": "ipython3",
   "version": "3.8.5"
  }
 },
 "nbformat": 4,
 "nbformat_minor": 2
}
